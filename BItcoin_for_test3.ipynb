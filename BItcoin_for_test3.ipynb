{
 "cells": [
  {
   "cell_type": "code",
   "execution_count": 3,
   "id": "2a7db5d9",
   "metadata": {},
   "outputs": [
    {
     "data": {
      "text/html": [
       "<div>\n",
       "<style scoped>\n",
       "    .dataframe tbody tr th:only-of-type {\n",
       "        vertical-align: middle;\n",
       "    }\n",
       "\n",
       "    .dataframe tbody tr th {\n",
       "        vertical-align: top;\n",
       "    }\n",
       "\n",
       "    .dataframe thead th {\n",
       "        text-align: right;\n",
       "    }\n",
       "</style>\n",
       "<table border=\"1\" class=\"dataframe\">\n",
       "  <thead>\n",
       "    <tr style=\"text-align: right;\">\n",
       "      <th></th>\n",
       "      <th>Open</th>\n",
       "      <th>High</th>\n",
       "      <th>Low</th>\n",
       "      <th>Close</th>\n",
       "      <th>Volume_(BTC)</th>\n",
       "      <th>Volume_(Currency)</th>\n",
       "      <th>Weighted_Price</th>\n",
       "    </tr>\n",
       "    <tr>\n",
       "      <th>Date</th>\n",
       "      <th></th>\n",
       "      <th></th>\n",
       "      <th></th>\n",
       "      <th></th>\n",
       "      <th></th>\n",
       "      <th></th>\n",
       "      <th></th>\n",
       "    </tr>\n",
       "  </thead>\n",
       "  <tbody>\n",
       "    <tr>\n",
       "      <th>2011-12-31</th>\n",
       "      <td>4.465000</td>\n",
       "      <td>4.482500</td>\n",
       "      <td>4.465000</td>\n",
       "      <td>4.482500</td>\n",
       "      <td>23.829470</td>\n",
       "      <td>106.330084</td>\n",
       "      <td>4.471603</td>\n",
       "    </tr>\n",
       "    <tr>\n",
       "      <th>2012-01-01</th>\n",
       "      <td>4.806667</td>\n",
       "      <td>4.806667</td>\n",
       "      <td>4.806667</td>\n",
       "      <td>4.806667</td>\n",
       "      <td>7.200667</td>\n",
       "      <td>35.259720</td>\n",
       "      <td>4.806667</td>\n",
       "    </tr>\n",
       "    <tr>\n",
       "      <th>2012-01-02</th>\n",
       "      <td>5.000000</td>\n",
       "      <td>5.000000</td>\n",
       "      <td>5.000000</td>\n",
       "      <td>5.000000</td>\n",
       "      <td>19.048000</td>\n",
       "      <td>95.240000</td>\n",
       "      <td>5.000000</td>\n",
       "    </tr>\n",
       "    <tr>\n",
       "      <th>2012-01-03</th>\n",
       "      <td>5.252500</td>\n",
       "      <td>5.252500</td>\n",
       "      <td>5.252500</td>\n",
       "      <td>5.252500</td>\n",
       "      <td>11.004660</td>\n",
       "      <td>58.100651</td>\n",
       "      <td>5.252500</td>\n",
       "    </tr>\n",
       "    <tr>\n",
       "      <th>2012-01-04</th>\n",
       "      <td>5.200000</td>\n",
       "      <td>5.223333</td>\n",
       "      <td>5.200000</td>\n",
       "      <td>5.223333</td>\n",
       "      <td>11.914807</td>\n",
       "      <td>63.119577</td>\n",
       "      <td>5.208159</td>\n",
       "    </tr>\n",
       "  </tbody>\n",
       "</table>\n",
       "</div>"
      ],
      "text/plain": [
       "                Open      High       Low     Close  Volume_(BTC)  \\\n",
       "Date                                                               \n",
       "2011-12-31  4.465000  4.482500  4.465000  4.482500     23.829470   \n",
       "2012-01-01  4.806667  4.806667  4.806667  4.806667      7.200667   \n",
       "2012-01-02  5.000000  5.000000  5.000000  5.000000     19.048000   \n",
       "2012-01-03  5.252500  5.252500  5.252500  5.252500     11.004660   \n",
       "2012-01-04  5.200000  5.223333  5.200000  5.223333     11.914807   \n",
       "\n",
       "            Volume_(Currency)  Weighted_Price  \n",
       "Date                                           \n",
       "2011-12-31         106.330084        4.471603  \n",
       "2012-01-01          35.259720        4.806667  \n",
       "2012-01-02          95.240000        5.000000  \n",
       "2012-01-03          58.100651        5.252500  \n",
       "2012-01-04          63.119577        5.208159  "
      ]
     },
     "execution_count": 3,
     "metadata": {},
     "output_type": "execute_result"
    }
   ],
   "source": [
    "# Import our dependencies\n",
    "from sklearn.model_selection import train_test_split\n",
    "from sklearn.preprocessing import StandardScaler,OneHotEncoder\n",
    "import pandas as pd\n",
    "import tensorflow as tf\n",
    "%matplotlib inline\n",
    "# from tensorflow.keras.models import Sequential\n",
    "# from tensorflow.keras.layers import LSTM, Dense, Dropout, Bidirectional\n",
    "# from tensorflow.keras.callbacks import ModelCheckpoint, TensorBoard\n",
    "from sklearn import preprocessing\n",
    "from collections import deque\n",
    "# Dependencies and Setup\n",
    "import matplotlib.pyplot as plt\n",
    "import os\n",
    "import numpy as np\n",
    "import random\n",
    "#from sklearn.cluster import KMeans\n",
    "import hvplot.pandas\n",
    "from sklearn.linear_model import LinearRegression\n",
    "\n",
    "#  Import and read the charity_data.csv.\n",
    "bitcoin_df = pd.read_csv(\"bitcoin.csv\")\n",
    "bitcoin_df.head()\n",
    "\n",
    "# Drop any null values\n",
    "bitcoin_df = bitcoin_df.dropna().reset_index(drop=True)\n",
    "bitcoin_df.head()\n",
    "\n",
    "#Bitcoin date to same format as other Dataframes for merge\n",
    "bitcoin_df.Timestamp = pd.to_datetime(bitcoin_df.Timestamp , unit = 's')\n",
    "bitcoin_df['Date']= bitcoin_df.Timestamp.dt.date\n",
    "bitcoin_df = bitcoin_df.groupby('Date').mean()\n",
    "bitcoin_df.head()"
   ]
  },
  {
   "cell_type": "code",
   "execution_count": 4,
   "id": "c4598cd7",
   "metadata": {},
   "outputs": [
    {
     "ename": "KeyError",
     "evalue": "\"None of ['Date'] are in the columns\"",
     "output_type": "error",
     "traceback": [
      "\u001b[1;31m---------------------------------------------------------------------------\u001b[0m",
      "\u001b[1;31mKeyError\u001b[0m                                  Traceback (most recent call last)",
      "\u001b[1;32m~\\AppData\\Local\\Temp/ipykernel_25164/1400873411.py\u001b[0m in \u001b[0;36m<module>\u001b[1;34m\u001b[0m\n\u001b[0;32m      1\u001b[0m \u001b[1;31m# # making Date as an Index\u001b[0m\u001b[1;33m\u001b[0m\u001b[1;33m\u001b[0m\u001b[0m\n\u001b[1;32m----> 2\u001b[1;33m \u001b[0mbitcoin_df\u001b[0m \u001b[1;33m=\u001b[0m \u001b[0mbitcoin_df\u001b[0m\u001b[1;33m.\u001b[0m\u001b[0mset_index\u001b[0m\u001b[1;33m(\u001b[0m\u001b[1;34m'Date'\u001b[0m\u001b[1;33m)\u001b[0m\u001b[1;33m\u001b[0m\u001b[1;33m\u001b[0m\u001b[0m\n\u001b[0m\u001b[0;32m      3\u001b[0m \u001b[1;31m# bitcoin_df.head()\u001b[0m\u001b[1;33m\u001b[0m\u001b[1;33m\u001b[0m\u001b[0m\n\u001b[0;32m      4\u001b[0m \u001b[1;33m\u001b[0m\u001b[0m\n\u001b[0;32m      5\u001b[0m \u001b[0mbitcoin_df\u001b[0m \u001b[1;33m=\u001b[0m \u001b[0mbitcoin_df\u001b[0m\u001b[1;33m.\u001b[0m\u001b[0mdrop\u001b[0m\u001b[1;33m(\u001b[0m\u001b[1;33m[\u001b[0m\u001b[1;34m\"Timestamp\"\u001b[0m\u001b[1;33m]\u001b[0m\u001b[1;33m,\u001b[0m \u001b[0maxis\u001b[0m \u001b[1;33m=\u001b[0m \u001b[1;36m1\u001b[0m\u001b[1;33m)\u001b[0m\u001b[1;33m\u001b[0m\u001b[1;33m\u001b[0m\u001b[0m\n",
      "\u001b[1;32mC:\\ProgramData\\Anaconda3\\lib\\site-packages\\pandas\\util\\_decorators.py\u001b[0m in \u001b[0;36mwrapper\u001b[1;34m(*args, **kwargs)\u001b[0m\n\u001b[0;32m    309\u001b[0m                     \u001b[0mstacklevel\u001b[0m\u001b[1;33m=\u001b[0m\u001b[0mstacklevel\u001b[0m\u001b[1;33m,\u001b[0m\u001b[1;33m\u001b[0m\u001b[1;33m\u001b[0m\u001b[0m\n\u001b[0;32m    310\u001b[0m                 )\n\u001b[1;32m--> 311\u001b[1;33m             \u001b[1;32mreturn\u001b[0m \u001b[0mfunc\u001b[0m\u001b[1;33m(\u001b[0m\u001b[1;33m*\u001b[0m\u001b[0margs\u001b[0m\u001b[1;33m,\u001b[0m \u001b[1;33m**\u001b[0m\u001b[0mkwargs\u001b[0m\u001b[1;33m)\u001b[0m\u001b[1;33m\u001b[0m\u001b[1;33m\u001b[0m\u001b[0m\n\u001b[0m\u001b[0;32m    312\u001b[0m \u001b[1;33m\u001b[0m\u001b[0m\n\u001b[0;32m    313\u001b[0m         \u001b[1;32mreturn\u001b[0m \u001b[0mwrapper\u001b[0m\u001b[1;33m\u001b[0m\u001b[1;33m\u001b[0m\u001b[0m\n",
      "\u001b[1;32mC:\\ProgramData\\Anaconda3\\lib\\site-packages\\pandas\\core\\frame.py\u001b[0m in \u001b[0;36mset_index\u001b[1;34m(self, keys, drop, append, inplace, verify_integrity)\u001b[0m\n\u001b[0;32m   5449\u001b[0m \u001b[1;33m\u001b[0m\u001b[0m\n\u001b[0;32m   5450\u001b[0m         \u001b[1;32mif\u001b[0m \u001b[0mmissing\u001b[0m\u001b[1;33m:\u001b[0m\u001b[1;33m\u001b[0m\u001b[1;33m\u001b[0m\u001b[0m\n\u001b[1;32m-> 5451\u001b[1;33m             \u001b[1;32mraise\u001b[0m \u001b[0mKeyError\u001b[0m\u001b[1;33m(\u001b[0m\u001b[1;34mf\"None of {missing} are in the columns\"\u001b[0m\u001b[1;33m)\u001b[0m\u001b[1;33m\u001b[0m\u001b[1;33m\u001b[0m\u001b[0m\n\u001b[0m\u001b[0;32m   5452\u001b[0m \u001b[1;33m\u001b[0m\u001b[0m\n\u001b[0;32m   5453\u001b[0m         \u001b[1;32mif\u001b[0m \u001b[0minplace\u001b[0m\u001b[1;33m:\u001b[0m\u001b[1;33m\u001b[0m\u001b[1;33m\u001b[0m\u001b[0m\n",
      "\u001b[1;31mKeyError\u001b[0m: \"None of ['Date'] are in the columns\""
     ]
    }
   ],
   "source": [
    "# # making Date as an Index\n",
    "bitcoin_df = bitcoin_df.set_index('Date')\n",
    "# bitcoin_df.head()\n",
    "\n",
    "bitcoin_df = bitcoin_df.drop([\"Timestamp\"], axis = 1)\n",
    "bitcoin_df.head()"
   ]
  },
  {
   "cell_type": "code",
   "execution_count": null,
   "id": "d2353c85",
   "metadata": {},
   "outputs": [],
   "source": [
    "bitcoin_df.describe()"
   ]
  },
  {
   "cell_type": "code",
   "execution_count": null,
   "id": "e84282f8",
   "metadata": {},
   "outputs": [],
   "source": [
    "#bitcoin_df = bitcoin_df[\"Date\"== '2015-01-01':'2021-01-01']\n",
    "startdate = pd.to_datetime(\"2015-12-31\").date()\n",
    "enddate = pd.to_datetime(\"2021-12-31\").date()\n",
    "bitcoin_df.loc[startdate:enddate]\n",
    "\n",
    "#bitcoin_df.head()"
   ]
  },
  {
   "cell_type": "code",
   "execution_count": null,
   "id": "8106a664",
   "metadata": {},
   "outputs": [],
   "source": [
    "# plt.scatter(bitcoin_df.Date, bitcoin_df.Weighted_Price)\n",
    "# plt.xlabel('Date')\n",
    "# plt.ylabel('Weighted_Price')\n",
    "# plt.show()\n"
   ]
  },
  {
   "cell_type": "code",
   "execution_count": null,
   "id": "5b3ddf23",
   "metadata": {},
   "outputs": [],
   "source": [
    "# set seed, so we can get the same results after rerunning several times\n",
    "np.random.seed(314)\n",
    "tf.random.set_seed(314)\n",
    "random.seed(314)"
   ]
  },
  {
   "cell_type": "code",
   "execution_count": null,
   "id": "85fc0049",
   "metadata": {},
   "outputs": [],
   "source": [
    "X = ['open', 'High', 'Low', 'Close', 'Volume_(BTC)', 'Volume_(currency)']\n",
    "y = ['weighted_price']"
   ]
  },
  {
   "cell_type": "code",
   "execution_count": 5,
   "id": "b493997d",
   "metadata": {},
   "outputs": [],
   "source": [
    "# Create our features\n",
    "X = pd.get_dummies(bitcoin_df.drop(columns='Weighted_Price'))\n",
    "\n",
    "# Create our target\n",
    "y = bitcoin_df['Weighted_Price']"
   ]
  },
  {
   "cell_type": "code",
   "execution_count": 6,
   "id": "73fb895c",
   "metadata": {},
   "outputs": [
    {
     "data": {
      "text/html": [
       "<div>\n",
       "<style scoped>\n",
       "    .dataframe tbody tr th:only-of-type {\n",
       "        vertical-align: middle;\n",
       "    }\n",
       "\n",
       "    .dataframe tbody tr th {\n",
       "        vertical-align: top;\n",
       "    }\n",
       "\n",
       "    .dataframe thead th {\n",
       "        text-align: right;\n",
       "    }\n",
       "</style>\n",
       "<table border=\"1\" class=\"dataframe\">\n",
       "  <thead>\n",
       "    <tr style=\"text-align: right;\">\n",
       "      <th></th>\n",
       "      <th>Open</th>\n",
       "      <th>High</th>\n",
       "      <th>Low</th>\n",
       "      <th>Close</th>\n",
       "      <th>Volume_(BTC)</th>\n",
       "      <th>Volume_(Currency)</th>\n",
       "    </tr>\n",
       "  </thead>\n",
       "  <tbody>\n",
       "    <tr>\n",
       "      <th>count</th>\n",
       "      <td>3376.000000</td>\n",
       "      <td>3376.000000</td>\n",
       "      <td>3376.000000</td>\n",
       "      <td>3376.000000</td>\n",
       "      <td>3376.000000</td>\n",
       "      <td>3376.000000</td>\n",
       "    </tr>\n",
       "    <tr>\n",
       "      <th>mean</th>\n",
       "      <td>4605.644798</td>\n",
       "      <td>4608.916329</td>\n",
       "      <td>4602.220278</td>\n",
       "      <td>4605.640430</td>\n",
       "      <td>10.355675</td>\n",
       "      <td>31790.810259</td>\n",
       "    </tr>\n",
       "    <tr>\n",
       "      <th>std</th>\n",
       "      <td>8207.258774</td>\n",
       "      <td>8213.768034</td>\n",
       "      <td>8200.562238</td>\n",
       "      <td>8207.368264</td>\n",
       "      <td>8.897358</td>\n",
       "      <td>62753.976425</td>\n",
       "    </tr>\n",
       "    <tr>\n",
       "      <th>min</th>\n",
       "      <td>4.331667</td>\n",
       "      <td>4.331667</td>\n",
       "      <td>4.331667</td>\n",
       "      <td>4.331667</td>\n",
       "      <td>0.250000</td>\n",
       "      <td>1.227500</td>\n",
       "    </tr>\n",
       "    <tr>\n",
       "      <th>25%</th>\n",
       "      <td>244.954735</td>\n",
       "      <td>245.046306</td>\n",
       "      <td>244.869102</td>\n",
       "      <td>244.959590</td>\n",
       "      <td>4.671673</td>\n",
       "      <td>1916.186042</td>\n",
       "    </tr>\n",
       "    <tr>\n",
       "      <th>50%</th>\n",
       "      <td>697.954849</td>\n",
       "      <td>698.221190</td>\n",
       "      <td>697.654114</td>\n",
       "      <td>697.921509</td>\n",
       "      <td>7.622244</td>\n",
       "      <td>6832.004108</td>\n",
       "    </tr>\n",
       "    <tr>\n",
       "      <th>75%</th>\n",
       "      <td>7242.739376</td>\n",
       "      <td>7248.233526</td>\n",
       "      <td>7238.040275</td>\n",
       "      <td>7242.417035</td>\n",
       "      <td>13.114867</td>\n",
       "      <td>36074.508308</td>\n",
       "    </tr>\n",
       "    <tr>\n",
       "      <th>max</th>\n",
       "      <td>60458.339735</td>\n",
       "      <td>60488.868334</td>\n",
       "      <td>60426.441554</td>\n",
       "      <td>60458.888892</td>\n",
       "      <td>119.522868</td>\n",
       "      <td>950995.602917</td>\n",
       "    </tr>\n",
       "  </tbody>\n",
       "</table>\n",
       "</div>"
      ],
      "text/plain": [
       "               Open          High           Low         Close  Volume_(BTC)  \\\n",
       "count   3376.000000   3376.000000   3376.000000   3376.000000   3376.000000   \n",
       "mean    4605.644798   4608.916329   4602.220278   4605.640430     10.355675   \n",
       "std     8207.258774   8213.768034   8200.562238   8207.368264      8.897358   \n",
       "min        4.331667      4.331667      4.331667      4.331667      0.250000   \n",
       "25%      244.954735    245.046306    244.869102    244.959590      4.671673   \n",
       "50%      697.954849    698.221190    697.654114    697.921509      7.622244   \n",
       "75%     7242.739376   7248.233526   7238.040275   7242.417035     13.114867   \n",
       "max    60458.339735  60488.868334  60426.441554  60458.888892    119.522868   \n",
       "\n",
       "       Volume_(Currency)  \n",
       "count        3376.000000  \n",
       "mean        31790.810259  \n",
       "std         62753.976425  \n",
       "min             1.227500  \n",
       "25%          1916.186042  \n",
       "50%          6832.004108  \n",
       "75%         36074.508308  \n",
       "max        950995.602917  "
      ]
     },
     "execution_count": 6,
     "metadata": {},
     "output_type": "execute_result"
    }
   ],
   "source": [
    "X.describe()"
   ]
  },
  {
   "cell_type": "code",
   "execution_count": 7,
   "id": "fe904d60",
   "metadata": {},
   "outputs": [
    {
     "data": {
      "text/plain": [
       "(1351, 6)"
      ]
     },
     "execution_count": 7,
     "metadata": {},
     "output_type": "execute_result"
    }
   ],
   "source": [
    "from sklearn.model_selection import train_test_split\n",
    "X_train, X_test, y_train, y_test = train_test_split(X, y,random_state=42,test_size=0.4)\n",
    "X_test.shape"
   ]
  },
  {
   "cell_type": "code",
   "execution_count": 8,
   "id": "fd243808",
   "metadata": {},
   "outputs": [],
   "source": [
    "from sklearn.linear_model import LinearRegression\n",
    "model = LinearRegression()\n",
    "model.fit(X, y)\n",
    "y_pred = model.predict(X,)\n"
   ]
  },
  {
   "cell_type": "code",
   "execution_count": 9,
   "id": "5488124f",
   "metadata": {},
   "outputs": [
    {
     "data": {
      "text/plain": [
       "1.0"
      ]
     },
     "execution_count": 9,
     "metadata": {},
     "output_type": "execute_result"
    }
   ],
   "source": [
    "from sklearn import linear_model\n",
    "ENcv= linear_model.ElasticNetCV(random_state = 42, max_iter=700)\n",
    "ENcv.fit(X_train,y_train)\n",
    "y_predict= ENcv.predict(X_test)\n",
    "ENcv.score(X_test,y_predict)\n"
   ]
  },
  {
   "cell_type": "code",
   "execution_count": 10,
   "id": "08a39643",
   "metadata": {},
   "outputs": [],
   "source": [
    "from xgboost.sklearn import XGBRegressor"
   ]
  },
  {
   "cell_type": "code",
   "execution_count": 11,
   "id": "2ce25002",
   "metadata": {},
   "outputs": [
    {
     "data": {
      "text/plain": [
       "-19.607843777551704"
      ]
     },
     "execution_count": 11,
     "metadata": {},
     "output_type": "execute_result"
    }
   ],
   "source": [
    "from sklearn.kernel_ridge import KernelRidge\n",
    "n_samples, n_features = 25, 6\n",
    "rng = np.random.RandomState(0)\n",
    "y = rng.randn(n_samples)\n",
    "X = rng.randn(n_samples, n_features)\n",
    "krr = KernelRidge(alpha=1.0)\n",
    "krr.fit(X, y)\n",
    "KernelRidge(alpha=1.0)\n",
    "krr.score(X_train, y_train)"
   ]
  },
  {
   "cell_type": "code",
   "execution_count": 18,
   "id": "1d4746c3",
   "metadata": {},
   "outputs": [
    {
     "ename": "NameError",
     "evalue": "name 'load_iris' is not defined",
     "output_type": "error",
     "traceback": [
      "\u001b[1;31m---------------------------------------------------------------------------\u001b[0m",
      "\u001b[1;31mNameError\u001b[0m                                 Traceback (most recent call last)",
      "\u001b[1;32m~\\AppData\\Local\\Temp/ipykernel_25164/687074193.py\u001b[0m in \u001b[0;36m<module>\u001b[1;34m\u001b[0m\n\u001b[0;32m      3\u001b[0m \u001b[1;32mfrom\u001b[0m \u001b[0msklearn\u001b[0m\u001b[1;33m.\u001b[0m\u001b[0mnaive_bayes\u001b[0m \u001b[1;32mimport\u001b[0m \u001b[0mGaussianNB\u001b[0m\u001b[1;33m\u001b[0m\u001b[1;33m\u001b[0m\u001b[0m\n\u001b[0;32m      4\u001b[0m \u001b[1;31m#iris =\u001b[0m\u001b[1;33m\u001b[0m\u001b[1;33m\u001b[0m\u001b[0m\n\u001b[1;32m----> 5\u001b[1;33m \u001b[0mX\u001b[0m\u001b[1;33m,\u001b[0m \u001b[0my\u001b[0m \u001b[1;33m=\u001b[0m \u001b[0mload_iris\u001b[0m\u001b[1;33m(\u001b[0m\u001b[0mreturn_X_y\u001b[0m\u001b[1;33m=\u001b[0m\u001b[1;32mTrue\u001b[0m\u001b[1;33m)\u001b[0m\u001b[1;33m\u001b[0m\u001b[1;33m\u001b[0m\u001b[0m\n\u001b[0m\u001b[0;32m      6\u001b[0m \u001b[0mX_train\u001b[0m\u001b[1;33m,\u001b[0m \u001b[0mX_test\u001b[0m\u001b[1;33m,\u001b[0m \u001b[0my_train\u001b[0m\u001b[1;33m,\u001b[0m \u001b[0my_test\u001b[0m \u001b[1;33m=\u001b[0m \u001b[0mtrain_test_split\u001b[0m\u001b[1;33m(\u001b[0m\u001b[0mX\u001b[0m\u001b[1;33m,\u001b[0m \u001b[0my\u001b[0m\u001b[1;33m,\u001b[0m \u001b[0mtest_size\u001b[0m\u001b[1;33m=\u001b[0m\u001b[1;36m0.5\u001b[0m\u001b[1;33m,\u001b[0m \u001b[0mrandom_state\u001b[0m\u001b[1;33m=\u001b[0m\u001b[1;36m0\u001b[0m\u001b[1;33m)\u001b[0m\u001b[1;33m\u001b[0m\u001b[1;33m\u001b[0m\u001b[0m\n\u001b[0;32m      7\u001b[0m \u001b[0mgnb\u001b[0m \u001b[1;33m=\u001b[0m \u001b[0mGaussianNB\u001b[0m\u001b[1;33m(\u001b[0m\u001b[1;33m)\u001b[0m\u001b[1;33m\u001b[0m\u001b[1;33m\u001b[0m\u001b[0m\n",
      "\u001b[1;31mNameError\u001b[0m: name 'load_iris' is not defined"
     ]
    }
   ],
   "source": [
    "from sklearn.linear_model import BayesianRidge\n",
    "from sklearn.model_selection import train_test_split\n",
    "from sklearn.naive_bayes import GaussianNB\n",
    "\n",
    "X, y = load_iris(return_X_y=True)\n",
    "X_train, X_test, y_train, y_test = train_test_split(X, y, test_size=0.5, random_state=0)\n",
    "gnb = GaussianNB()\n",
    "y_pred = gnb.fit(X_train, y_train).predict(X_test)\n",
    "# print(\"Number of mislabeled points out of a total %d points : %d\"\n",
    "#        % (X_test.shape[0], (y_test != y_pred).sum())\n",
    "# Number of mislabeled points out of a total 75 points : 4)\n",
    "# gnb.score(X_train,y_train)"
   ]
  },
  {
   "cell_type": "code",
   "execution_count": 20,
   "id": "73244d40",
   "metadata": {},
   "outputs": [
    {
     "data": {
      "text/plain": [
       "-0.2922482120524992"
      ]
     },
     "execution_count": 20,
     "metadata": {},
     "output_type": "execute_result"
    }
   ],
   "source": [
    "from sklearn.svm import SVR\n",
    "from sklearn.pipeline import make_pipeline\n",
    "from sklearn.preprocessing import StandardScaler\n",
    "n_samples, n_features = 25, 6\n",
    "rng = np.random.RandomState(0)\n",
    "y = rng.randn(n_samples)\n",
    "X = rng.randn(n_samples, n_features)\n",
    "regr = make_pipeline(StandardScaler(), SVR(C=1.0, epsilon=0.2))\n",
    "regr.fit(X, y) \n",
    "regr.score(X_test, y_test)"
   ]
  },
  {
   "cell_type": "code",
   "execution_count": null,
   "id": "c0ac10cc",
   "metadata": {},
   "outputs": [],
   "source": []
  },
  {
   "cell_type": "code",
   "execution_count": null,
   "id": "feda198d",
   "metadata": {},
   "outputs": [],
   "source": []
  },
  {
   "cell_type": "code",
   "execution_count": null,
   "id": "e59a9fee",
   "metadata": {},
   "outputs": [],
   "source": []
  },
  {
   "cell_type": "code",
   "execution_count": null,
   "id": "57a10ca9",
   "metadata": {},
   "outputs": [],
   "source": []
  },
  {
   "cell_type": "code",
   "execution_count": null,
   "id": "9587d1a7",
   "metadata": {},
   "outputs": [],
   "source": [
    "# # Create our features\n",
    "# X = bitcoin_df.drop(columns=\"Weighted_Price\")\n",
    "\n",
    "# # Create our target\n",
    "# y = bitcoin_df[\"Weighted_Price\"]\n",
    "\n",
    "# from sklearn import preprocessing\n",
    "# from sklearn import utils\n",
    "\n",
    "# #convert y values to categorical values\n",
    "# lab = preprocessing.LabelEncoder()\n",
    "# y_transformed = lab.fit_transform(y)\n",
    "\n",
    "# #view transformed values\n",
    "# print(y_transformed)\n",
    "\n",
    "# X_train, X_test, y_train, y_test = train_test_split(X, y_transformed, random_state=1)\n",
    "\n",
    "# classifier = LogisticRegression( max_iter=200, random_state=1)\n",
    "# LogisticRegression(C=1.0, class_weight=None, dual=False, fit_intercept=True,\n",
    "#   intercept_scaling=1, max_iter=100, multi_class='warn', penalty='12',\n",
    "#   random_state=1, solver='lbfgs', tol=0.0001, warm_start=False)\n",
    "\n",
    "# classifier.fit(X_train, y_train)\n",
    "\n",
    "\n",
    "# y_pred = classifier.predict(X_test)\n",
    "\n",
    "# from sklearn.metrics import accuracy_score\n",
    "# print(accuracy_score(y_test, y_pred))"
   ]
  },
  {
   "cell_type": "code",
   "execution_count": null,
   "id": "cbddb891",
   "metadata": {},
   "outputs": [],
   "source": [
    "# #from skmultilearn.model_selection import iterative_train_test_split\n",
    "# X_train, X_test, y_train, y_test = train_test_split(X, y,random_state=42)\n",
    "# X_train.shape\n",
    "\n",
    "\n",
    "# X = bitcoin_df.drop(columns=\"Weighted_Price\")\n",
    "\n",
    "# X = bitcoin_df.Weighted_Price.values.reshape(-1, 1)\n",
    "\n",
    "# y = bitcoin_df[\"Weighted_Price\"]\n",
    "\n",
    "# model = LogisticRegression()\n",
    "\n",
    "# model.fit(X, y)\n",
    "\n",
    "# y_pred = model.predict(X)\n",
    "# print(y_pred.shape)\n",
    "\n",
    "# plt.scatter(X, y)\n",
    "# plt.plot(X, y_pred, color='red')\n",
    "# plt.show()"
   ]
  },
  {
   "cell_type": "code",
   "execution_count": null,
   "id": "83af80a8",
   "metadata": {},
   "outputs": [],
   "source": []
  },
  {
   "cell_type": "code",
   "execution_count": null,
   "id": "95f5969f",
   "metadata": {},
   "outputs": [],
   "source": [
    "# # Create our features\n",
    "# X = pd.get_dummies(bitcoin_df(columns=\"Date\"))\n",
    "\n",
    "# # Create our target\n",
    "# y = bitcoin_df[\"Weighted_Price\"]\n",
    "\n",
    "# target = [\"Weighted_Price\"]\n",
    "\n",
    "# # Standardize the data with StandardScaler().\n",
    "# scaler = StandardScaler()\n",
    "# X_scaler = scaler.fit(X)\n",
    "\n",
    "# X_scaler\n",
    "\n",
    "# X_scaled = X_scaler.transform(X_scaler)\n",
    "# X_scaled\n",
    "\n",
    "# from imblearn.over_sampling import RandomOverSampler\n",
    "# from sklearn import utils\n",
    "# ros = RandomOverSampler(random_state=1)\n",
    "# X_resampled, y_resampled = ros.fit_resample(X_train, y_train)\n",
    "# Counter(y_resampled)\n",
    "\n"
   ]
  },
  {
   "cell_type": "code",
   "execution_count": null,
   "id": "e02e90e1",
   "metadata": {},
   "outputs": [],
   "source": []
  },
  {
   "cell_type": "code",
   "execution_count": null,
   "id": "7dee0f66",
   "metadata": {},
   "outputs": [],
   "source": [
    "# moving_bit_df = []\n"
   ]
  },
  {
   "cell_type": "code",
   "execution_count": null,
   "id": "36fb29b7",
   "metadata": {},
   "outputs": [],
   "source": [
    "#jupyter notebook --NotebookApp.iopub_data_rate_limit=1.0e10"
   ]
  },
  {
   "cell_type": "code",
   "execution_count": null,
   "id": "fd653add",
   "metadata": {},
   "outputs": [],
   "source": [
    "# def bitcoin():\n",
    "    \n",
    "#     moving_bit_df = []   \n",
    "\n",
    "#     moving_bit_df['Label']= label\n",
    "\n",
    "#     for price in bitcoin_df[\"Weighted_Price\"]:\n",
    "#         if price > 0 :\n",
    "#             label.append(label)\n",
    "#         # 4b: Add the existing county to the list of counties.\n",
    "#            # county_names.append(county_name)\n",
    "\n",
    "\n",
    "# if scale:\n",
    "#         column_scaler = {}\n",
    "#         # scale the data (prices) from 0 to 1\n",
    "#         for column in feature_columns:\n",
    "#             scaler = preprocessing.MinMaxScaler()\n",
    "#             bitcoin_df[column] = scaler.fit_transform(np.expand_dims(bitcoin_df[column].values, axis=1))\n",
    "#             column_scaler[column] = scaler\n",
    "#         # add the MinMaxScaler instances to the result returned\n",
    "#         result[\"column_scaler\"] = column_scaler\n",
    "#     # add the target column (label) by shifting by `lookup_step`\n",
    "# bitcoin_df['Label'] = bitcoin_df[\"Weighted_Price\"].shift(-lookup_step)\n",
    "\n",
    "# print(moving_bit_df)"
   ]
  }
 ],
 "metadata": {
  "kernelspec": {
   "display_name": "mlenv",
   "language": "python",
   "name": "mlenv"
  },
  "language_info": {
   "codemirror_mode": {
    "name": "ipython",
    "version": 3
   },
   "file_extension": ".py",
   "mimetype": "text/x-python",
   "name": "python",
   "nbconvert_exporter": "python",
   "pygments_lexer": "ipython3",
   "version": "3.9.7"
  }
 },
 "nbformat": 4,
 "nbformat_minor": 5
}

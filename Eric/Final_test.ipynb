{
  "cells": [
    {
      "cell_type": "code",
      "execution_count": null,
      "id": "18abc558",
      "metadata": {
        "id": "18abc558"
      },
      "outputs": [],
      "source": [
        "# Import our dependencies\n",
        "from sklearn.model_selection import train_test_split\n",
        "from sklearn.preprocessing import StandardScaler,OneHotEncoder\n",
        "import pandas as pd\n",
        "import tensorflow as tf\n",
        "from sklearn import preprocessing\n",
        "from collections import deque\n",
        "# Dependencies and Setup\n",
        "import matplotlib.pyplot as plt\n",
        "import os\n",
        "import numpy as np\n",
        "import random\n"
      ]
    },
    {
      "cell_type": "code",
      "execution_count": null,
      "id": "bc94fe35",
      "metadata": {},
      "outputs": [],
      "source": [
        "#  Import and read the charity_data.csv.\n",
        "bitcoin_df = pd.read_csv(\"bitcoin_df.csv\")\n",
        "bitcoin_df.head()"
      ]
    },
    {
      "cell_type": "code",
      "execution_count": null,
      "id": "9b989105",
      "metadata": {},
      "outputs": [],
      "source": [
        "bitcoin_df=bitcoin_df.drop(columns='volume_currency')\n",
        "# Convert the date to datetime64\n",
        "bitcoin_df['date'] = pd.to_datetime(bitcoin_df['date'], format='%Y-%m-%d')\n",
        "bitcoin_df.drop_duplicates(subset='date',inplace=True)\n",
        "  \n",
        "# Filter data between two dates\n",
        "bitcoin_df2 = bitcoin_df.loc[(bitcoin_df['date'] >= '2011-12-31')\n",
        "                     & (bitcoin_df['date'] < '2020-12-31')]"
      ]
    },
    {
      "cell_type": "code",
      "execution_count": null,
      "id": "4b71f69b",
      "metadata": {},
      "outputs": [],
      "source": [
        "bitcoin_df2.head()"
      ]
    },
    {
      "cell_type": "code",
      "execution_count": null,
      "id": "1jSrSkHAM19F",
      "metadata": {
        "colab": {
          "base_uri": "https://localhost:8080/",
          "height": 397
        },
        "id": "1jSrSkHAM19F",
        "outputId": "2919b5fe-207b-4c09-b539-6dbb3e9f1b24"
      },
      "outputs": [],
      "source": [
        "bitcoin_df2.to_csv('bitcoin_df2.csv')"
      ]
    },
    {
      "cell_type": "code",
      "execution_count": null,
      "id": "7085b194",
      "metadata": {
        "id": "7085b194"
      },
      "outputs": [],
      "source": [
        "#Test"
      ]
    },
    {
      "cell_type": "code",
      "execution_count": null,
      "id": "2695d80b",
      "metadata": {
        "id": "2695d80b"
      },
      "outputs": [],
      "source": [
        "import numpy as np\n",
        "import datetime\n",
        "import pandas as pd\n",
        "import numba as N\n",
        "from numba import jit, cuda\n",
        "from pathlib import Path\n",
        "from collections import Counter\n",
        "from sklearn.metrics import mean_squared_error\n",
        "import matplotlib.pyplot as plt"
      ]
    },
    {
      "cell_type": "code",
      "execution_count": null,
      "id": "2a8a928c",
      "metadata": {
        "colab": {
          "base_uri": "https://localhost:8080/",
          "height": 380
        },
        "id": "2a8a928c",
        "outputId": "164b5c92-7037-4391-ff60-67e67b3997fd"
      },
      "outputs": [],
      "source": [
        "#  Import and read the data\n",
        "bitcoin_df2 = pd.read_csv(\"bitcoin_df2.csv\")\n",
        "bitcoin_df2.head()\n"
      ]
    },
    {
      "cell_type": "code",
      "execution_count": null,
      "id": "23906b63",
      "metadata": {},
      "outputs": [],
      "source": [
        "X1=['open_', 'high', 'low', 'close_', 'volume_btc']\n",
        "y=['weighted_price']"
      ]
    },
    {
      "cell_type": "code",
      "execution_count": null,
      "metadata": {},
      "outputs": [],
      "source": [
        "# Create our features\n",
        "X1 = pd.get_dummies(bitcoin_df2.drop(columns='weighted_price'))\n",
        "X_df=X1\n",
        "X_df.head\n"
      ]
    },
    {
      "cell_type": "code",
      "execution_count": null,
      "id": "c89f441a",
      "metadata": {},
      "outputs": [],
      "source": [
        "X_df = pd.read_csv(\"bitcoin_df2.csv\", index_col =\"date\")\n",
        "X_df.loc[:, ['open_', 'high', 'low', 'close_', 'volume_btc']]\n",
        "print(X_df)"
      ]
    },
    {
      "cell_type": "code",
      "execution_count": null,
      "id": "09433f8a",
      "metadata": {},
      "outputs": [],
      "source": [
        "X=X_df"
      ]
    },
    {
      "cell_type": "code",
      "execution_count": null,
      "id": "2e53c65b",
      "metadata": {},
      "outputs": [],
      "source": [
        "#Create our target\n",
        "y = bitcoin_df2['weighted_price']\n"
      ]
    },
    {
      "cell_type": "code",
      "execution_count": null,
      "id": "cbcb06d1",
      "metadata": {},
      "outputs": [],
      "source": [
        "print(X)"
      ]
    },
    {
      "cell_type": "code",
      "execution_count": null,
      "id": "0d094f25",
      "metadata": {
        "id": "0d094f25",
        "outputId": "29461d65-c4d2-4381-d54e-cfed7ab63365"
      },
      "outputs": [],
      "source": [
        "X.describe"
      ]
    },
    {
      "cell_type": "code",
      "execution_count": null,
      "id": "a1138806",
      "metadata": {
        "id": "a1138806",
        "outputId": "59297d0a-e2cf-4059-c1c3-b24d1301b5aa"
      },
      "outputs": [],
      "source": [
        "y.value_counts"
      ]
    },
    {
      "cell_type": "code",
      "execution_count": null,
      "id": "a06654dc",
      "metadata": {
        "id": "a06654dc",
        "outputId": "ae3ee3e1-abd1-42d6-b285-ff280d894122"
      },
      "outputs": [],
      "source": [
        "from sklearn.model_selection import train_test_split\n",
        "X_train, X_test, y_train, y_test = train_test_split(X, y,random_state=25)\n",
        "X_test.shape"
      ]
    },
    {
      "cell_type": "code",
      "execution_count": null,
      "id": "5ee355f5",
      "metadata": {
        "id": "5ee355f5",
        "outputId": "947ad3d1-834f-47a3-b75f-ee9398639b75"
      },
      "outputs": [],
      "source": [
        "from sklearn.linear_model import LinearRegression\n",
        "model = LinearRegression()\n",
        "model.fit(X_test, y_test)\n",
        "model.score(X,y)\n",
        "\n"
      ]
    },
    {
      "cell_type": "code",
      "execution_count": null,
      "id": "a3bffd05",
      "metadata": {},
      "outputs": [],
      "source": [
        "y_pred=model.predict(X_test)\n",
        "y_pred\n"
      ]
    },
    {
      "cell_type": "code",
      "execution_count": null,
      "id": "d373c247",
      "metadata": {
        "id": "d373c247",
        "outputId": "7db58946-4493-485a-ed99-b34b1bb89a6e"
      },
      "outputs": [],
      "source": [
        "from sklearn import linear_model\n",
        "ENcv= linear_model.ElasticNetCV(random_state = 0, max_iter=1000)\n",
        "ENcv.fit(X_test,y_test)\n",
        "y_predict= ENcv.predict(X_test)\n",
        "ENcv.score(X,y) "
      ]
    },
    {
      "cell_type": "code",
      "execution_count": null,
      "id": "cfe7ec98",
      "metadata": {
        "id": "cfe7ec98"
      },
      "outputs": [],
      "source": [
        "from xgboost.sklearn import XGBRegressor\n",
        "xgbr= XGBRegressor(n_estimators=1000, max_depth=2, eta=0.2, subsample=0.6, colsample_bytree=0.7)\n",
        "xgbr.fit(X,y)\n",
        "xgbr.score(X_train,y_train)\n",
        "plt.plot(X_test,y_test)"
      ]
    },
    {
      "cell_type": "code",
      "execution_count": null,
      "id": "7dee0f66",
      "metadata": {
        "colab": {
          "base_uri": "https://localhost:8080/",
          "height": 243
        },
        "id": "7dee0f66",
        "outputId": "0923490d-75ae-42ed-bf3b-dfae54d18b6f"
      },
      "outputs": [],
      "source": [
        "from sklearn.kernel_ridge import KernelRidge\n",
        "n_samples, n_features = 695,7\n",
        "rng = np.random.RandomState(0)\n",
        "y = rng.randn(n_samples)\n",
        "X = rng.randn(n_samples, n_features)\n",
        "krr = KernelRidge(alpha=1.0)\n",
        "krr.fit(X, y)\n",
        "KernelRidge(alpha=1.0)\n",
        "krr.score(X_train, y_train)"
      ]
    },
    {
      "cell_type": "code",
      "execution_count": null,
      "id": "200ea5ee",
      "metadata": {
        "id": "200ea5ee"
      },
      "outputs": [],
      "source": [
        "from sklearn.linear_model import BayesianRidge\n",
        "clf = linear_model.BayesianRidge()\n",
        "clf.fit(X,y)\n",
        "clf.score(X_train,y_train)"
      ]
    },
    {
      "cell_type": "code",
      "execution_count": null,
      "id": "8b932960",
      "metadata": {
        "id": "8b932960"
      },
      "outputs": [],
      "source": [
        "from sklearn.svm import SVR\n",
        "from sklearn.pipeline import make_pipeline\n",
        "from sklearn.preprocessing import StandardScaler\n",
        "n_samples, n_features = 1000,7\n",
        "rng = np.random.RandomState(0)\n",
        "y = rng.randn(n_samples)\n",
        "X = rng.randn(n_samples, n_features)\n",
        "regr = make_pipeline(StandardScaler(), SVR(C=1.0, epsilon=0.2))\n",
        "regr.fit(X, y) \n",
        "regr.score(X_train, y_train)"
      ]
    },
    {
      "cell_type": "markdown",
      "id": "HTgI8HD9xrPA",
      "metadata": {
        "id": "HTgI8HD9xrPA"
      },
      "source": [
        "# New Section"
      ]
    },
    {
      "cell_type": "code",
      "execution_count": null,
      "id": "4d79e674",
      "metadata": {},
      "outputs": [],
      "source": [
        "x_train=np.reshape(x_train,(x_train.shape[0],x_train.shape[1],1))\n",
        "x_train.shape"
      ]
    },
    {
      "cell_type": "code",
      "execution_count": null,
      "id": "2adeb85e",
      "metadata": {},
      "outputs": [],
      "source": [
        "# build LSTM model\n",
        "model2=Sequential()\n",
        "model2.add(LSTM(50,return_sequences=True,input_shape=(x_train.shape[1],1)))\n",
        "model2.add(LSTM(50,return_sequences=False))\n",
        "model2.add(Dense(25))\n",
        "model2.add(Dense(1))\n"
      ]
    },
    {
      "cell_type": "code",
      "execution_count": null,
      "id": "61452542",
      "metadata": {},
      "outputs": [],
      "source": [
        "#train the model\n",
        "model.fit(X_train,y_train,epochs=1)"
      ]
    }
  ],
  "metadata": {
    "colab": {
      "name": "Test.ipynb",
      "provenance": [],
      "toc_visible": true
    },
    "kernelspec": {
      "display_name": "Python 3.7.13 ('mlenv')",
      "language": "python",
      "name": "python3"
    },
    "language_info": {
      "codemirror_mode": {
        "name": "ipython",
        "version": 3
      },
      "file_extension": ".py",
      "mimetype": "text/x-python",
      "name": "python",
      "nbconvert_exporter": "python",
      "pygments_lexer": "ipython3",
      "version": "3.7.13"
    },
    "vscode": {
      "interpreter": {
        "hash": "8418dfc3b83195ab0d59ba6ea18e65a216d1347c3728cc6e3dd8f31e398cb694"
      }
    }
  },
  "nbformat": 4,
  "nbformat_minor": 5
}
